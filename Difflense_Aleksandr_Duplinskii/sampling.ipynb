{
 "cells": [
  {
   "cell_type": "code",
   "execution_count": 1,
   "metadata": {
    "kernelspec": {
     "displayname": "Python (.venv)",
     "language": "python",
     "name": "venv"
    }
   },
   "outputs": [],
   "source": [
    "import torch\n",
    "import torch.nn as nn\n",
    "import torch.nn.functional as F\n",
    "from torchvision import datasets, transforms\n",
    "from torch.utils.data import DataLoader\n",
    "import numpy as np\n",
    "import matplotlib.pyplot as plt\n",
    "import copy\n",
    "from model_grav import *"
   ]
  },
  {
   "cell_type": "code",
   "execution_count": 2,
   "metadata": {},
   "outputs": [
    {
     "data": {
      "text/plain": [
       "<All keys matched successfully>"
      ]
     },
     "execution_count": 2,
     "metadata": {},
     "output_type": "execute_result"
    }
   ],
   "source": [
    "model.load_state_dict(torch.load(r\"grav_model_100_npred_mix2att_lin_concat.pt\"), strict = False)    \n",
    "ema_model.load_state_dict(torch.load(r\"grav_ema_model_epoch_100_npred_mix2att_lin_concat.pt\"), strict=False)"
   ]
  },
  {
   "cell_type": "code",
   "execution_count": null,
   "metadata": {},
   "outputs": [],
   "source": [
    "import matplotlib.gridspec as gridspec\n",
    "import random\n",
    "\n",
    "num_rows = 3\n",
    "num_col = 3\n",
    "\n",
    "n_samples = num_rows*num_col\n",
    "\n",
    "samples = sample_epsilon_v2(ema_model, n_samples=num_rows*num_col).cpu().detach()\n",
    "\n",
    "# --- Plotting ---\n",
    "fig = plt.figure(figsize=(10, 8))  # Increase width for colorbar\n",
    "gs = gridspec.GridSpec(num_rows, num_col + 1, width_ratios=[1]*num_col + [0.05], wspace=0.1, hspace=0.2)\n",
    "\n",
    "# for i in range(num_rows * num_col):\n",
    "#     plt.subplot(num_rows, num_col, i + 1)\n",
    "#     plt.imshow(samples[i, 0], cmap='gray')\n",
    "#     plt.axis('off')\n",
    "\n",
    "# plt.tight_layout()\n",
    "# plt.show()\n",
    "\n",
    "# Plot images\n",
    "for i in range(n_samples):\n",
    "    row, col = divmod(i, num_col)\n",
    "    ax = plt.subplot(gs[row, col])\n",
    "    im = ax.imshow(samples[i, 0], cmap='gray')\n",
    "    ax.axis('off')\n",
    "\n",
    "# Colorbar in the last column of the grid\n",
    "cbar_ax = plt.subplot(gs[:, -1])\n",
    "plt.colorbar(im, cax=cbar_ax)\n",
    "\n",
    "plt.tight_layout()\n",
    "plt.show()"
   ]
  },
  {
   "cell_type": "code",
   "execution_count": null,
   "metadata": {},
   "outputs": [
    {
     "name": "stderr",
     "output_type": "stream",
     "text": [
      " 88%|████████▊ | 35/40 [1:56:42<16:41, 200.25s/it]  "
     ]
    }
   ],
   "source": [
    "from tqdm import tqdm\n",
    "\n",
    "n_samples = 1000\n",
    "batch_size = 25\n",
    "all_samples = []\n",
    "\n",
    "ema_model.eval()\n",
    "with torch.no_grad():\n",
    "    for i in tqdm(range(0, n_samples, batch_size)):\n",
    "        current_batch = min(batch_size, n_samples - i)\n",
    "        batch = sample_epsilon_v2(ema_model, n_samples=current_batch)  # should be on GPU\n",
    "        all_samples.append(batch.cpu())  # move to CPU immediately\n",
    "\n",
    "# Concatenate all and save as one file\n",
    "samples = torch.cat(all_samples, dim=0)  # shape [1000, 1, 150, 150]\n",
    "torch.save(samples, \"generated_samples_mix2att_lin.pt\")\n",
    "print(\"✅ Saved generated samples:\", samples.shape)"
   ]
  }
 ],
 "metadata": {
  "language_info": {
   "name": "python"
  }
 },
 "nbformat": 4,
 "nbformat_minor": 2
}
